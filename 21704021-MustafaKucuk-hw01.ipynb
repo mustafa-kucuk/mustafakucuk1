{
 "cells": [
  {
   "cell_type": "code",
   "execution_count": 15,
   "metadata": {},
   "outputs": [
    {
     "name": "stdout",
     "output_type": "stream",
     "text": [
      "x karenin kat sayısını giriniz:2\n",
      "x'in kat sayısını giriniz:5\n",
      "sabit terimin kat sayısını giriniz:2\n",
      "discriminant degeri : 9\n",
      "ilk kök: -0.5\n",
      "ikinci kök: -2.0\n"
     ]
    }
   ],
   "source": [
    "a=int(input(\"x karenin kat sayısını giriniz:\"))\n",
    "b=int(input(\"x'in kat sayısını giriniz:\"))\n",
    "c=int(input(\"sabit terimin kat sayısını giriniz:\"))\n",
    "d=((b**2) - 4*a*c)\n",
    "ilkkok=((-b+d**0.5)/(2*a))\n",
    "ikincikok=((-b-d**0.5)/(2*a))\n",
    "print(\"discriminant degeri :\",d)\n",
    "print(\"ilk kök:\",ilkkok)\n",
    "print(\"ikinci kök:\",ikincikok)"
   ]
  },
  {
   "cell_type": "code",
   "execution_count": null,
   "metadata": {},
   "outputs": [],
   "source": []
  }
 ],
 "metadata": {
  "kernelspec": {
   "display_name": "Python 3",
   "language": "python",
   "name": "python3"
  },
  "language_info": {
   "codemirror_mode": {
    "name": "ipython",
    "version": 3
   },
   "file_extension": ".py",
   "mimetype": "text/x-python",
   "name": "python",
   "nbconvert_exporter": "python",
   "pygments_lexer": "ipython3",
   "version": "3.7.0"
  }
 },
 "nbformat": 4,
 "nbformat_minor": 2
}
