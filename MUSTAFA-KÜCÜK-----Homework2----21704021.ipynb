{
 "cells": [
  {
   "cell_type": "code",
   "execution_count": 5,
   "metadata": {},
   "outputs": [
    {
     "name": "stdout",
     "output_type": "stream",
     "text": [
      " 1,2,3 sayılarından birini giriniz: 1.2\n",
      "ÇALIŞTIRILAMIYOR!!! Lütfen 1,2,3 sayılarından birini girip tekrar deneyiniz :) \n"
     ]
    }
   ],
   "source": [
    "baslama=float(input(\" 1,2,3 sayılarından birini giriniz: \"))\n",
    "if baslama==1:\n",
    "    print(\"Üçgenin hipotönüsü hesaplanacaktır\")\n",
    "    a=float(input(\"a kenarını giriniz: \"))\n",
    "    b=float(input(\"b kenarını giriniz:  \"))\n",
    "    hipotonus=(a**2+b**2)**0.5\n",
    "    print(\"hipotonüs:\",hipotonus)\n",
    "elif baslama==2:\n",
    "    x=float(input(\"herhangi bir rakam giriniz: \"))\n",
    "    i=1\n",
    "    while(i<=x):\n",
    "        print(i)\n",
    "        i=i+1\n",
    "elif baslama==3:\n",
    "    ilk_sayı = float(input(\"ilk sayıyı giriniz: \"))\n",
    "    ikinci_sayı = float(input(\"ikinci sayıyı giriniz: \"))\n",
    "    ücüncü_sayı = float(input(\"ücüncü sayıyı giriniz: \"))\n",
    "    dördüncü_sayı = float(input(\"dördüncü sayıyı giriniz: \"))\n",
    "    besinci_sayı = float(input(\"besinci sayıyı giriniz: \"))\n",
    "    altıncı_sayı = float(input(\"altıncı sayıyı giriniz: \"))\n",
    "    ortalama = (ilk_sayı+ikinci_sayı+ücüncü_sayı+dördüncü_sayı+besinci_sayı+altıncı_sayı)/6\n",
    "    print(ortalama)\n",
    "else:\n",
    "    print(\"ÇALIŞTIRILAMIYOR!!! Lütfen 1,2,3 sayılarından birini girip tekrar deneyiniz :) \")"
   ]
  },
  {
   "cell_type": "code",
   "execution_count": null,
   "metadata": {},
   "outputs": [],
   "source": []
  }
 ],
 "metadata": {
  "kernelspec": {
   "display_name": "Python 3",
   "language": "python",
   "name": "python3"
  },
  "language_info": {
   "codemirror_mode": {
    "name": "ipython",
    "version": 3
   },
   "file_extension": ".py",
   "mimetype": "text/x-python",
   "name": "python",
   "nbconvert_exporter": "python",
   "pygments_lexer": "ipython3",
   "version": "3.7.0"
  }
 },
 "nbformat": 4,
 "nbformat_minor": 2
}
